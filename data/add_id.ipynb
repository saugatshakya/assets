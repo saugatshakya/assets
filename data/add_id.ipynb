{
 "cells": [
  {
   "cell_type": "code",
   "execution_count": 1,
   "metadata": {},
   "outputs": [
    {
     "name": "stdout",
     "output_type": "stream",
     "text": [
      "Error: 'charmap' codec can't decode byte 0x9d in position 9170: character maps to <undefined>\n"
     ]
    }
   ],
   "source": [
    "import json\n",
    "import uuid\n",
    "\n",
    "def add_ids_recursively(data):\n",
    "    if isinstance(data, dict):\n",
    "        # Add an ID to the current dictionary\n",
    "        data['id'] = str(uuid.uuid4())\n",
    "        # Recur for all nested values\n",
    "        for key, value in data.items():\n",
    "            add_ids_recursively(value)\n",
    "    elif isinstance(data, list):\n",
    "        # Recur for each item in the list\n",
    "        for item in data:\n",
    "            add_ids_recursively(item)\n",
    "\n",
    "def process_json(input_file, output_file):\n",
    "    try:\n",
    "        # Read the JSON file\n",
    "        with open(input_file, 'r') as file:\n",
    "            data = json.load(file)\n",
    "        \n",
    "        # Add IDs recursively\n",
    "        add_ids_recursively(data)\n",
    "\n",
    "        # Write the updated JSON back to a file\n",
    "        with open(output_file, 'w') as file:\n",
    "            json.dump(data, file, indent=4)\n",
    "\n",
    "        print(f\"Recursive IDs added successfully and saved to {output_file}\")\n",
    "    except Exception as e:\n",
    "        print(f\"Error: {e}\")\n",
    "\n",
    "# Example usage\n",
    "input_file = \"basantapur.json\"   # Replace with your input JSON file path\n",
    "output_file = \"basantapur_with_id.json\" # Replace with your desired output file path\n",
    "process_json(input_file, output_file)\n"
   ]
  }
 ],
 "metadata": {
  "kernelspec": {
   "display_name": "Python 3",
   "language": "python",
   "name": "python3"
  },
  "language_info": {
   "codemirror_mode": {
    "name": "ipython",
    "version": 3
   },
   "file_extension": ".py",
   "mimetype": "text/x-python",
   "name": "python",
   "nbconvert_exporter": "python",
   "pygments_lexer": "ipython3",
   "version": "3.12.2"
  }
 },
 "nbformat": 4,
 "nbformat_minor": 2
}
