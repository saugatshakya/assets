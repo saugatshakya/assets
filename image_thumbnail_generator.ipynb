{
 "cells": [
  {
   "cell_type": "code",
   "execution_count": 2,
   "metadata": {},
   "outputs": [
    {
     "name": "stdout",
     "output_type": "stream",
     "text": [
      "Defaulting to user installation because normal site-packages is not writeable\n",
      "Collecting pillow\n",
      "  Downloading pillow-11.0.0-cp39-cp39-macosx_11_0_arm64.whl (3.0 MB)\n",
      "\u001b[K     |████████████████████████████████| 3.0 MB 817 kB/s eta 0:00:01\n",
      "\u001b[?25hInstalling collected packages: pillow\n",
      "Successfully installed pillow-11.0.0\n",
      "\u001b[33mWARNING: You are using pip version 21.2.4; however, version 24.3.1 is available.\n",
      "You should consider upgrading via the '/Applications/Xcode.app/Contents/Developer/usr/bin/python3 -m pip install --upgrade pip' command.\u001b[0m\n",
      "Note: you may need to restart the kernel to use updated packages.\n"
     ]
    }
   ],
   "source": [
    "pip install pillow"
   ]
  },
  {
   "cell_type": "code",
   "execution_count": 4,
   "metadata": {},
   "outputs": [
    {
     "name": "stdout",
     "output_type": "stream",
     "text": [
      "Thumbnail created for: 43. Tamreshwar.jpg\n",
      "Thumbnail created for: Nasatva Ganesh .JPG\n",
      "Thumbnail created for: 24. Lalitamukteswar temple.jpg\n",
      "Thumbnail created for: 1. Pashupatinath Temple.JPG\n",
      "Thumbnail created for: Nasahdya.JPG\n",
      "Thumbnail created for: 23. Anantanarayan.jpg\n",
      "Thumbnail created for: 5.Jitajangaprakaseswar Mandir.JPG\n",
      "Thumbnail created for: 56. Balkumari Temple .JPG\n",
      "Thumbnail created for: 10. Bhuvaneshwari Temple.png\n",
      "Thumbnail created for: 22. Vatsala Temple.jpg\n",
      "Thumbnail created for: 32. Visvarupa Temple.png\n",
      "Thumbnail created for: 12. Daksinamurti.jpg\n",
      "Thumbnail created for: 47. Trishul Satah.JPG\n",
      "Thumbnail created for: 37. Kirateshwar.png\n",
      "Thumbnail created for: Guheshwari.JPG\n",
      "Thumbnail created for: 3. Four Shivalaya .png\n",
      "Thumbnail created for: 33.Ganesh Mandir .jpg\n",
      "Thumbnail created for: 26. Gangamai temple .JPG\n",
      "Thumbnail created for: 53. Matsyendra Ganesh.JPG\n",
      "Thumbnail created for: 44. Tole Ganesh.jpg\n",
      "Thumbnail created for: 30. Vishnu  Temple (Ramchandra  Mandir).JPG\n",
      "Thumbnail created for: 6. Tara Kunda.jpg\n",
      "Thumbnail created for: 55. Laliteshwar Mandir.JPG\n",
      "Thumbnail created for: Pashima Dhoka.JPG\n",
      "Thumbnail created for: 11. Aruna Dhara.png\n",
      "Thumbnail created for: 29. Ekadash Rudreshwar Temple.png\n",
      "Thumbnail created for: Indreshwar Mahadev.jpeg\n",
      "Thumbnail created for: 49. Luhiti.jpg\n",
      "Thumbnail created for: Kailash Hill.jpeg\n",
      "Thumbnail created for: Gaurighat Satah.JPG\n",
      "Thumbnail created for: Mangala Gauri.jpg\n",
      "Thumbnail created for: 19.Bhasmeshwar.JPG\n",
      "Thumbnail created for: Jaladya Satah.JPG\n",
      "Thumbnail created for: 45. Mritunjaya.jpg\n",
      "Thumbnail created for: Hanuman Shrine.JPG\n",
      "Thumbnail created for: Lalitamukteśwar temple.jpg\n",
      "Thumbnail created for: 2.Pingalamai.JPG\n",
      "Thumbnail created for: 51. Surya Temple.jpeg\n",
      "Thumbnail created for: 28. Fifteen Shiuvalayas.png\n",
      "Thumbnail created for: Panchadevala.JPG\n",
      "Thumbnail created for: Jaya Vagishwari.JPG\n",
      "Thumbnail created for: Rajarajeshwari.JPG\n",
      "Thumbnail created for: 7. Vankali.jpg\n",
      "Thumbnail created for: 50. Sridhar Vishnudevala.jpg\n",
      "Thumbnail created for: Jaya Rudreshwar Temple.JPG\n",
      "Thumbnail created for: 8. Vanavinayaka Mandir.JPG\n",
      "Thumbnail created for: 25. Virupaksha.png\n",
      "Thumbnail created for: 18. Drisheshwar, Ishworeshwar and Sireshwar.png\n",
      "Thumbnail created for: 25. Virupaksha.JPG\n",
      "Thumbnail created for: Pacha Ganesh.JPG\n",
      "Thumbnail created for: 27. Brahma naal JPG.jpg\n",
      "Thumbnail created for: 20.Cremation Ghat.jpg\n"
     ]
    }
   ],
   "source": [
    "import os\n",
    "from PIL import Image, ImageOps\n",
    "\n",
    "def create_thumbnails(input_folder, output_folder, thumbnail_size=(150, 150)):\n",
    "    \"\"\"\n",
    "    Create low-resolution thumbnails of images in the input folder\n",
    "    and save them to the output folder with correct orientation.\n",
    "\n",
    "    Args:\n",
    "        input_folder (str): Path to the folder containing the original images.\n",
    "        output_folder (str): Path to the folder to save the thumbnails.\n",
    "        thumbnail_size (tuple): Size of the thumbnails (width, height).\n",
    "    \"\"\"\n",
    "    # Ensure output folder exists\n",
    "    if not os.path.exists(output_folder):\n",
    "        os.makedirs(output_folder)\n",
    "    \n",
    "    # Loop through all files in the input folder\n",
    "    for file_name in os.listdir(input_folder):\n",
    "        input_file_path = os.path.join(input_folder, file_name)\n",
    "\n",
    "        # Check if the file is an image\n",
    "        if os.path.isfile(input_file_path) and file_name.lower().endswith(('.png', '.jpg', '.jpeg', '.gif', '.bmp', '.tiff', '.webp')):\n",
    "            try:\n",
    "                # Open the image\n",
    "                with Image.open(input_file_path) as img:\n",
    "                    # Correct orientation based on EXIF metadata\n",
    "                    img = ImageOps.exif_transpose(img)\n",
    "\n",
    "                    # Convert RGBA to RGB if needed (e.g., for PNG with transparency)\n",
    "                    if img.mode == 'RGBA':\n",
    "                        img = img.convert('RGB')\n",
    "                    \n",
    "                    # Create the thumbnail\n",
    "                    img.thumbnail(thumbnail_size)\n",
    "                    \n",
    "                    # Generate output file path (same name, same format as input)\n",
    "                    output_file_path = os.path.join(output_folder, file_name)\n",
    "                    \n",
    "                    # Save the thumbnail in the original format\n",
    "                    img.save(output_file_path, img.format)\n",
    "                    \n",
    "                    print(f\"Thumbnail created for: {file_name}\")\n",
    "            except Exception as e:\n",
    "                print(f\"Error processing {file_name}: {e}\")\n",
    "\n",
    "# Example Usage\n",
    "input_folder_path = \"./photos/Pashupati\"\n",
    "output_folder_path = \"./thumbnail/Pashupati\"\n",
    "create_thumbnails(input_folder_path, output_folder_path, thumbnail_size=(300, 300))\n",
    "\n"
   ]
  }
 ],
 "metadata": {
  "kernelspec": {
   "display_name": "Python 3",
   "language": "python",
   "name": "python3"
  },
  "language_info": {
   "codemirror_mode": {
    "name": "ipython",
    "version": 3
   },
   "file_extension": ".py",
   "mimetype": "text/x-python",
   "name": "python",
   "nbconvert_exporter": "python",
   "pygments_lexer": "ipython3",
   "version": "3.9.6"
  }
 },
 "nbformat": 4,
 "nbformat_minor": 2
}
