{
 "cells": [
  {
   "cell_type": "code",
   "execution_count": 2,
   "metadata": {},
   "outputs": [
    {
     "name": "stdout",
     "output_type": "stream",
     "text": [
      "Defaulting to user installation because normal site-packages is not writeable\n",
      "Collecting pillow\n",
      "  Downloading pillow-11.0.0-cp39-cp39-macosx_11_0_arm64.whl (3.0 MB)\n",
      "\u001b[K     |████████████████████████████████| 3.0 MB 817 kB/s eta 0:00:01\n",
      "\u001b[?25hInstalling collected packages: pillow\n",
      "Successfully installed pillow-11.0.0\n",
      "\u001b[33mWARNING: You are using pip version 21.2.4; however, version 24.3.1 is available.\n",
      "You should consider upgrading via the '/Applications/Xcode.app/Contents/Developer/usr/bin/python3 -m pip install --upgrade pip' command.\u001b[0m\n",
      "Note: you may need to restart the kernel to use updated packages.\n"
     ]
    }
   ],
   "source": [
    "pip install pillow"
   ]
  },
  {
   "cell_type": "code",
   "execution_count": 6,
   "metadata": {},
   "outputs": [
    {
     "name": "stdout",
     "output_type": "stream",
     "text": [
      "Thumbnail created for: CharNarayantemple.JPG\n",
      "Thumbnail created for: DhanaGaneshaTemple.JPG\n",
      "Thumbnail created for: GahanaPokhari.JPG\n",
      "Thumbnail created for: BhimaNani.JPG\n",
      "Thumbnail created for: Pancha Dhara and its premises.JPG\n",
      "Thumbnail created for: Yoshin.JPG\n",
      "Thumbnail created for: GOPR4795.JPG\n",
      "Thumbnail created for: BhuteshworBhairavTemple.JPG\n",
      "Thumbnail created for: NasaDyo.JPG\n",
      "Thumbnail created for: HadigaunShivaTempleandJogiKuti.JPG\n",
      "Thumbnail created for: SatyanarayantempleandthePremises.JPG\n",
      "Thumbnail created for: DhantaliBarahi.JPG\n",
      "Thumbnail created for: TheMotherGoddesses.JPG\n",
      "Thumbnail created for: BharaviHiti.JPG\n",
      "Thumbnail created for: HadigaunDabali.JPG\n",
      "Thumbnail created for: BhuteshworBhairavPremises.JPG\n",
      "Thumbnail created for: KrishnaTemple.JPG\n",
      "Thumbnail created for: BhimsenTemple.JPG\n",
      "Thumbnail created for: BhatbhateniTemple.JPG\n",
      "Thumbnail created for: NyaLho.JPG\n",
      "Thumbnail created for: Jarun.JPG\n",
      "Thumbnail created for: MarpaHiti.JPG\n"
     ]
    }
   ],
   "source": [
    "import os\n",
    "from PIL import Image, ImageOps\n",
    "\n",
    "def create_thumbnails(input_folder, output_folder, thumbnail_size=(150, 150)):\n",
    "    \"\"\"\n",
    "    Create low-resolution thumbnails of images in the input folder\n",
    "    and save them to the output folder with correct orientation.\n",
    "\n",
    "    Args:\n",
    "        input_folder (str): Path to the folder containing the original images.\n",
    "        output_folder (str): Path to the folder to save the thumbnails.\n",
    "        thumbnail_size (tuple): Size of the thumbnails (width, height).\n",
    "    \"\"\"\n",
    "    # Ensure output folder exists\n",
    "    if not os.path.exists(output_folder):\n",
    "        os.makedirs(output_folder)\n",
    "    \n",
    "    # Loop through all files in the input folder\n",
    "    for file_name in os.listdir(input_folder):\n",
    "        input_file_path = os.path.join(input_folder, file_name)\n",
    "\n",
    "        # Check if the file is an image\n",
    "        if os.path.isfile(input_file_path) and file_name.lower().endswith(('.png', '.jpg', '.jpeg', '.gif', '.bmp', '.tiff', '.webp')):\n",
    "            try:\n",
    "                # Open the image\n",
    "                with Image.open(input_file_path) as img:\n",
    "                    # Correct orientation based on EXIF metadata\n",
    "                    img = ImageOps.exif_transpose(img)\n",
    "\n",
    "                    # Convert RGBA to RGB if needed (e.g., for PNG with transparency)\n",
    "                    if img.mode == 'RGBA':\n",
    "                        img = img.convert('RGB')\n",
    "                    \n",
    "                    # Create the thumbnail\n",
    "                    img.thumbnail(thumbnail_size)\n",
    "                    \n",
    "                    # Generate output file path (same name, same format as input)\n",
    "                    output_file_path = os.path.join(output_folder, file_name)\n",
    "                    \n",
    "                    # Save the thumbnail in the original format\n",
    "                    img.save(output_file_path, img.format)\n",
    "                    \n",
    "                    print(f\"Thumbnail created for: {file_name}\")\n",
    "            except Exception as e:\n",
    "                print(f\"Error processing {file_name}: {e}\")\n",
    "\n",
    "# Example Usage\n",
    "input_folder_path = \"./photos/Hadigaun\"\n",
    "output_folder_path = \"./thumbnail/Hadigaun\"\n",
    "create_thumbnails(input_folder_path, output_folder_path, thumbnail_size=(300, 300))\n",
    "\n"
   ]
  }
 ],
 "metadata": {
  "kernelspec": {
   "display_name": "Python 3",
   "language": "python",
   "name": "python3"
  },
  "language_info": {
   "codemirror_mode": {
    "name": "ipython",
    "version": 3
   },
   "file_extension": ".py",
   "mimetype": "text/x-python",
   "name": "python",
   "nbconvert_exporter": "python",
   "pygments_lexer": "ipython3",
   "version": "3.9.6"
  }
 },
 "nbformat": 4,
 "nbformat_minor": 2
}
